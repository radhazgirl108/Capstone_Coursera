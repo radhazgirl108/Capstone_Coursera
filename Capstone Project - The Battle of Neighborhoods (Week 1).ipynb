{
 "cells": [
  {
   "cell_type": "markdown",
   "metadata": {},
   "source": [
    "# Capstone Project - The Battle of Neighborhoods (Week 1)"
   ]
  },
  {
   "cell_type": "markdown",
   "metadata": {},
   "source": [
    "## Introduction\n",
    "The City of New York, is the most populated city in the United States. It is diverse and is the financial capital of USA and is multicultural. It provides lot of business oppourtunities and business friendly environment as well as has attracted many different players into the market. It is also a global hub of business and commerce. The city is a major center for banking and finance, retailing, world trade, transportation, tourism, real estate, new media, traditional media, advertising, legal services, accountancy, insurance, theater, fashion, and the arts among others in the United States. This also means that the market is severely competitive. As it is highly developed city so cost of doing business is also one of the highest. Thus, any new business venture or expansion needs to be analysed very carefully. The insights derived from these analysis will give a better understanding of the business environment which in return would help in strategically targeting the market. This will also aid in the reduction of risk and therefore, the Return on Investment will be reasonable."
   ]
  },
  {
   "cell_type": "markdown",
   "metadata": {},
   "source": [
    "## Business problem\n",
    "The City of New York is famous for its excelllent cuisines. It's food culture includes an variety of international cuisines influenced by the city's immigrant history. Recently, Vegan Sushi restaurants have become so popular in the United States now that veganism is highly popular in the young hip cultural. Thus, it appears that there is one on every corner and not only in major cities but also have started making apperances in smaller cities internationally. Starting a Vegan sushi restaurant can be a great business opportunity, but we need to distinguish ourselves from others to enjoy steady long-term successes."
   ]
  },
  {
   "cell_type": "markdown",
   "metadata": {},
   "source": [
    "## Find a suitable location\n",
    "If we plan a real restaurant that can demand higher prices for fresh fish and seafood replacement, delivered daily from Japan, we need to focus on neighborhoods and outlets that already attract a sophisticated Vegans as well as the origianl Japanese clientele. \n",
    "However, if we plan to have a cheaper buffet restaurant, it points to the masses looking for affordable high-traffic locations in large shopping centers and other local points of interest. \n",
    "Therefore, it is evident that in order to survive in such a fiercely competitive market, it is very important to systematically and startegically plan. There are various factors need to be studied and considered inorder to decide on the most effective location."
   ]
  },
  {
   "cell_type": "markdown",
   "metadata": {},
   "source": [
    "## Target Audience\n",
    "My Stakeholder wants to open her business in Manhattan area, therefore I have only focus on that borough during my analysis. The objective is to locate, analyse and recommend to the management which neighborhood of New York City will be best choice to start a vegan sushi restaurant. The Management also expects to understand the rationale of the recommendations made.\n",
    "\n",
    "This would be a huge interest any stakeholder planning to start a new restaurant venture in New York City."
   ]
  },
  {
   "cell_type": "markdown",
   "metadata": {},
   "source": [
    "## Data\n",
    "**Assumption for the project is that every regular sushi place in New York is a Vegan place.** \n",
    "\n",
    "Therefore, to find the best location for our Vegan sushi bar, we will use the following sources of information:\n",
    "\n",
    "New York has a total of 5 boroughs and 306 neighborhoods. In order to segement the neighborhoods and explore them, we will essentially need a dataset that contains the 5 boroughs and the neighborhoods that exist in each borough as well as the the latitude and logitude coordinates of each neighborhood. Luckily, this dataset exists for free on the web. Feel free to try to find this dataset on your own, but here is the link to the dataset: https://geo.nyu.edu/catalog/nyu_2451_34572\n",
    "\n",
    "From Foursquare Venues Categories - https://developer.foursquare.com/docs/resources/categories \n",
    "\n",
    "Sushi category Id - 4bf58dd8d48988d1d2941735"
   ]
  },
  {
   "cell_type": "code",
   "execution_count": null,
   "metadata": {},
   "outputs": [],
   "source": []
  }
 ],
 "metadata": {
  "kernelspec": {
   "display_name": "Python 3",
   "language": "python",
   "name": "python3"
  },
  "language_info": {
   "codemirror_mode": {
    "name": "ipython",
    "version": 3
   },
   "file_extension": ".py",
   "mimetype": "text/x-python",
   "name": "python",
   "nbconvert_exporter": "python",
   "pygments_lexer": "ipython3",
   "version": "3.8.5"
  }
 },
 "nbformat": 4,
 "nbformat_minor": 4
}
